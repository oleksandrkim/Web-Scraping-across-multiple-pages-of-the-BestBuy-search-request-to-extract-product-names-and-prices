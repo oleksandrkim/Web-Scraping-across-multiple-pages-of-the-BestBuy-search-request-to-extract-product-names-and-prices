{
 "cells": [
  {
   "cell_type": "markdown",
   "metadata": {},
   "source": [
    "## Web Scraping across multiple pages of the BestBuy search request to extract product names and prices "
   ]
  },
  {
   "cell_type": "markdown",
   "metadata": {},
   "source": [
    "This is a short overview how information can be extracted from multiple pages of the search request <br>\n",
    "The example is a request to show Samsung TV's on the BestBuy website"
   ]
  },
  {
   "cell_type": "markdown",
   "metadata": {},
   "source": [
    "**Import libraries**"
   ]
  },
  {
   "cell_type": "code",
   "execution_count": 1,
   "metadata": {},
   "outputs": [],
   "source": [
    "from bs4 import BeautifulSoup\n",
    "import requests\n",
    "import time"
   ]
  },
  {
   "cell_type": "markdown",
   "metadata": {},
   "source": [
    "**Identify the url to extract from**"
   ]
  },
  {
   "cell_type": "code",
   "execution_count": 3,
   "metadata": {},
   "outputs": [],
   "source": [
    "url = \"https://www.bestbuy.ca/en-CA/Search/SearchResults.aspx?type=product&filter=brandName%253aSAMSUNG%253bcategory%253aTV%20%26%20Home%20Theatre&fromBrandStore=samsung\"\n",
    "#header is added so website doe not assume that the request is from a bot\n",
    "headers = {'User-Agent': 'Mozilla/5.0 (Macintosh; Intel Mac OS X 10_11_6) AppleWebKit/537.36 (KHTML, like Gecko) Chrome/61.0.3163.100 Safari/537.36'}\n",
    "page=1 #the first page of the search"
   ]
  },
  {
   "cell_type": "markdown",
   "metadata": {},
   "source": [
    "**A loop that extract all required info**"
   ]
  },
  {
   "cell_type": "code",
   "execution_count": 5,
   "metadata": {},
   "outputs": [
    {
     "name": "stdout",
     "output_type": "stream",
     "text": [
      "Page:  1\n",
      "Page:  2\n",
      "Page:  3\n",
      "Page:  4\n",
      "Page:  5\n",
      "Page:  6\n",
      "Page:  7\n",
      "Page:  8\n",
      "Page:  9\n"
     ]
    }
   ],
   "source": [
    "names=[]\n",
    "prices=[]\n",
    "\n",
    "while True:\n",
    "    r = requests.get(url, headers=headers)\n",
    "    html_doc = r.content\n",
    "    \n",
    "    soup = BeautifulSoup(html_doc, 'html.parser')\n",
    "    \n",
    "    #Extract titles\n",
    "    elements = soup.findAll('h4', attrs={'class': 'prod-title'})\n",
    "    for el in elements:\n",
    "        names.append(el.text.strip(\"\\n\"))\n",
    "    \n",
    "    #Extract prices\n",
    "    elements_2 = soup.findAll('span', attrs={'class':'amount'})\n",
    "    for el in elements_2:\n",
    "        prices.append(el.text)\n",
    "    \n",
    "    #Extract number of pages\n",
    "    pages = []\n",
    "    elements_3 = soup.findAll('ul', attrs={'class':\"pagination-control inline-list\"})\n",
    "    for el in elements_3:\n",
    "        children = el.findChildren(\"li\" , recursive=False)\n",
    "        for child in children:\n",
    "            children_2 = child.findChildren(\"a\" , recursive=False)\n",
    "            for child in children_2:\n",
    "                pages.append(child['data-page'])\n",
    "    max_page=int(max(pages))+1\n",
    "    print(\"Page: \",page)\n",
    "    page+=1\n",
    "    \n",
    "    #url for the next page\n",
    "    url = \"https://www.bestbuy.ca/en-CA/Search/SearchResults.aspx?type=product&filter=brandName%253aSAMSUNG%253bcategory%253aTV%20%26%20Home%20Theatre&fromBrandStore=samsung&page=\"+str(page)\n",
    "    time.sleep(2) \n",
    "    \n",
    "    if page==max_page:\n",
    "        break\n"
   ]
  },
  {
   "cell_type": "markdown",
   "metadata": {},
   "source": [
    "**Add extracted data to the dataframe**"
   ]
  },
  {
   "cell_type": "code",
   "execution_count": 6,
   "metadata": {},
   "outputs": [
    {
     "data": {
      "text/html": [
       "<div>\n",
       "<style scoped>\n",
       "    .dataframe tbody tr th:only-of-type {\n",
       "        vertical-align: middle;\n",
       "    }\n",
       "\n",
       "    .dataframe tbody tr th {\n",
       "        vertical-align: top;\n",
       "    }\n",
       "\n",
       "    .dataframe thead th {\n",
       "        text-align: right;\n",
       "    }\n",
       "</style>\n",
       "<table border=\"1\" class=\"dataframe\">\n",
       "  <thead>\n",
       "    <tr style=\"text-align: right;\">\n",
       "      <th></th>\n",
       "      <th>name</th>\n",
       "      <th>price</th>\n",
       "    </tr>\n",
       "  </thead>\n",
       "  <tbody>\n",
       "    <tr>\n",
       "      <th>0</th>\n",
       "      <td>Samsung 58\" 4K UHD HDR LED Tizen Smart TV (UN5...</td>\n",
       "      <td>$799.99</td>\n",
       "    </tr>\n",
       "    <tr>\n",
       "      <th>1</th>\n",
       "      <td>Samsung NU7100 50\" 4K UHD HDR LED Tizen Smart ...</td>\n",
       "      <td>$649.99</td>\n",
       "    </tr>\n",
       "    <tr>\n",
       "      <th>2</th>\n",
       "      <td>Samsung NU7100 43\" 4K UHD HDR LED Tizen Smart ...</td>\n",
       "      <td>$499.99</td>\n",
       "    </tr>\n",
       "    <tr>\n",
       "      <th>3</th>\n",
       "      <td>Samsung 55\" 4K UHD HDR LED Tizen Smart TV (UN5...</td>\n",
       "      <td>$699.99</td>\n",
       "    </tr>\n",
       "    <tr>\n",
       "      <th>4</th>\n",
       "      <td>Samsung 55\" 4K UHD HDR LED Tizen Smart TV (UN5...</td>\n",
       "      <td>$899.99</td>\n",
       "    </tr>\n",
       "  </tbody>\n",
       "</table>\n",
       "</div>"
      ],
      "text/plain": [
       "                                                name    price\n",
       "0  Samsung 58\" 4K UHD HDR LED Tizen Smart TV (UN5...  $799.99\n",
       "1  Samsung NU7100 50\" 4K UHD HDR LED Tizen Smart ...  $649.99\n",
       "2  Samsung NU7100 43\" 4K UHD HDR LED Tizen Smart ...  $499.99\n",
       "3  Samsung 55\" 4K UHD HDR LED Tizen Smart TV (UN5...  $699.99\n",
       "4  Samsung 55\" 4K UHD HDR LED Tizen Smart TV (UN5...  $899.99"
      ]
     },
     "execution_count": 6,
     "metadata": {},
     "output_type": "execute_result"
    }
   ],
   "source": [
    "import pandas as pd\n",
    "df = pd.DataFrame(\n",
    "    {'name': names,\n",
    "     'price': prices\n",
    "    })\n",
    "df.head()"
   ]
  }
 ],
 "metadata": {
  "kernelspec": {
   "display_name": "Python 3",
   "language": "python",
   "name": "python3"
  },
  "language_info": {
   "codemirror_mode": {
    "name": "ipython",
    "version": 3
   },
   "file_extension": ".py",
   "mimetype": "text/x-python",
   "name": "python",
   "nbconvert_exporter": "python",
   "pygments_lexer": "ipython3",
   "version": "3.6.5"
  }
 },
 "nbformat": 4,
 "nbformat_minor": 2
}
